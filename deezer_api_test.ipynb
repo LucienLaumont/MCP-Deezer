{
 "cells": [
  {
   "cell_type": "code",
   "execution_count": 1,
   "id": "b1249f12",
   "metadata": {},
   "outputs": [
    {
     "name": "stdout",
     "output_type": "stream",
     "text": [
      "✅ Imports réussis pour tous les clients Deezer\n"
     ]
    }
   ],
   "source": [
    "# Test des clients Deezer API\n",
    "import asyncio\n",
    "import sys\n",
    "import os\n",
    "\n",
    "from mcp_deezer.functions.deezer_client.album import AlbumClient\n",
    "from mcp_deezer.functions.deezer_client.artist import ArtistClient\n",
    "from mcp_deezer.functions.deezer_client.playlist import PlaylistClient\n",
    "from mcp_deezer.functions.deezer_client.track import TrackClient\n",
    "\n",
    "print(\"✅ Imports réussis pour tous les clients Deezer\")"
   ]
  },
  {
   "cell_type": "code",
   "execution_count": 2,
   "id": "e1053b80",
   "metadata": {},
   "outputs": [
    {
     "name": "stdout",
     "output_type": "stream",
     "text": [
      "🎵 Test du TrackClient\n",
      "✅ Track récupéré: Instant Crush (feat. Julian Casablancas) par Daft Punk\n",
      "   Durée: 337 secondes\n",
      "   Lien: https://www.deezer.com/track/67238732\n"
     ]
    },
    {
     "data": {
      "text/plain": [
       "True"
      ]
     },
     "execution_count": 2,
     "metadata": {},
     "output_type": "execute_result"
    }
   ],
   "source": [
    "# Test du TrackClient\n",
    "async def test_track_client():\n",
    "    print(\"🎵 Test du TrackClient\")\n",
    "    client = TrackClient()\n",
    "    \n",
    "    try:\n",
    "        # Test avec un ID de track Deezer populaire (exemple: Daft Punk - Get Lucky)\n",
    "        track_id = 67238732\n",
    "        track = await client.get_track(track_id)\n",
    "        print(f\"✅ Track récupéré: {track.title} par {track.artist.name}\")\n",
    "        print(f\"   Durée: {track.duration} secondes\")\n",
    "        print(f\"   Lien: {track.link}\")\n",
    "        return True\n",
    "    except Exception as e:\n",
    "        print(f\"❌ Erreur lors du test TrackClient: {e}\")\n",
    "        return False\n",
    "    finally:\n",
    "        await client.close()\n",
    "\n",
    "# Exécuter le test\n",
    "await test_track_client()"
   ]
  },
  {
   "cell_type": "code",
   "execution_count": 3,
   "id": "bu7bnb01q69",
   "metadata": {},
   "outputs": [
    {
     "name": "stdout",
     "output_type": "stream",
     "text": [
      "💿 Test du AlbumClient\n",
      "✅ Album récupéré: Discovery par Daft Punk\n",
      "   Nombre de tracks: 14\n",
      "   Date de sortie: 2001-03-07\n",
      "   Lien: https://www.deezer.com/album/302127\n",
      "✅ 14 tracks récupérées de l'album\n",
      "   Première track: One More Time\n"
     ]
    },
    {
     "data": {
      "text/plain": [
       "True"
      ]
     },
     "execution_count": 3,
     "metadata": {},
     "output_type": "execute_result"
    }
   ],
   "source": [
    "# Test du AlbumClient\n",
    "async def test_album_client():\n",
    "    print(\"💿 Test du AlbumClient\")\n",
    "    client = AlbumClient()\n",
    "    \n",
    "    try:\n",
    "        # Test avec un ID d'album Deezer populaire (exemple: Discovery by Daft Punk)\n",
    "        album_id = 302127\n",
    "        album = await client.get_album(album_id)\n",
    "        print(f\"✅ Album récupéré: {album.title} par {album.artist.name}\")\n",
    "        print(f\"   Nombre de tracks: {album.nb_tracks}\")\n",
    "        print(f\"   Date de sortie: {album.release_date}\")\n",
    "        print(f\"   Lien: {album.link}\")\n",
    "        \n",
    "        # Test des tracks de l'album\n",
    "        tracks = await client.get_tracks(album_id)\n",
    "        print(f\"✅ {len(tracks)} tracks récupérées de l'album\")\n",
    "        if tracks:\n",
    "            print(f\"   Première track: {tracks[0].title}\")\n",
    "        \n",
    "        return True\n",
    "    except Exception as e:\n",
    "        print(f\"❌ Erreur lors du test AlbumClient: {e}\")\n",
    "        return False\n",
    "    finally:\n",
    "        await client.close()\n",
    "\n",
    "# Exécuter le test\n",
    "await test_album_client()"
   ]
  },
  {
   "cell_type": "code",
   "execution_count": 4,
   "id": "x0rx7e5xv1e",
   "metadata": {},
   "outputs": [
    {
     "name": "stdout",
     "output_type": "stream",
     "text": [
      "🎤 Test du ArtistClient\n",
      "✅ Artiste récupéré: Daft Punk\n",
      "   Nombre d'albums: 39\n",
      "   Nombre de fans: 4978939\n",
      "   Lien: https://www.deezer.com/artist/27\n",
      "✅ 25 artistes trouvés pour 'Daft Punk'\n",
      "   Premier résultat: Daft Punk\n",
      "✅ 5 top tracks récupérées\n",
      "   Top track: Instant Crush (feat. Julian Casablancas)\n",
      "✅ 25 albums récupérés\n",
      "   Premier album: Random Access Memories (Drumless Edition)\n",
      "✅ 20 artistes liés récupérés\n",
      "   Artiste lié: Justice\n"
     ]
    },
    {
     "data": {
      "text/plain": [
       "True"
      ]
     },
     "execution_count": 4,
     "metadata": {},
     "output_type": "execute_result"
    }
   ],
   "source": [
    "# Test du ArtistClient\n",
    "async def test_artist_client():\n",
    "    print(\"🎤 Test du ArtistClient\")\n",
    "    client = ArtistClient()\n",
    "    \n",
    "    try:\n",
    "        # Test avec un ID d'artiste Deezer populaire (exemple: Daft Punk)\n",
    "        artist_id = 27\n",
    "        artist = await client.get_artist(artist_id)\n",
    "        print(f\"✅ Artiste récupéré: {artist.name}\")\n",
    "        print(f\"   Nombre d'albums: {artist.nb_album}\")\n",
    "        print(f\"   Nombre de fans: {artist.nb_fan}\")\n",
    "        print(f\"   Lien: {artist.link}\")\n",
    "        \n",
    "        # Test de recherche d'artiste\n",
    "        search_results = await client.search_artist(\"Daft Punk\")\n",
    "        print(f\"✅ {len(search_results)} artistes trouvés pour 'Daft Punk'\")\n",
    "        if search_results:\n",
    "            print(f\"   Premier résultat: {search_results[0].name}\")\n",
    "        \n",
    "        # Test des top tracks\n",
    "        top_tracks = await client.get_top_tracks(artist_id)\n",
    "        print(f\"✅ {len(top_tracks)} top tracks récupérées\")\n",
    "        if top_tracks:\n",
    "            print(f\"   Top track: {top_tracks[0].title}\")\n",
    "        \n",
    "        # Test des albums\n",
    "        albums = await client.get_albums(artist_id)\n",
    "        print(f\"✅ {len(albums)} albums récupérés\")\n",
    "        if albums:\n",
    "            print(f\"   Premier album: {albums[0].title}\")\n",
    "        \n",
    "        # Test des artistes liés\n",
    "        related = await client.get_related_artists(artist_id)\n",
    "        print(f\"✅ {len(related)} artistes liés récupérés\")\n",
    "        if related:\n",
    "            print(f\"   Artiste lié: {related[0].name}\")\n",
    "        \n",
    "        return True\n",
    "    except Exception as e:\n",
    "        print(f\"❌ Erreur lors du test ArtistClient: {e}\")\n",
    "        return False\n",
    "    finally:\n",
    "        await client.close()\n",
    "\n",
    "# Exécuter le test\n",
    "await test_artist_client()"
   ]
  },
  {
   "cell_type": "code",
   "execution_count": 5,
   "id": "fo9w0mqqsdq",
   "metadata": {},
   "outputs": [
    {
     "name": "stdout",
     "output_type": "stream",
     "text": [
      "🎶 Test du PlaylistClient\n",
      "❌ Erreur lors du test PlaylistClient: 1 validation error for DeezerPlaylist\n",
      "tracks\n",
      "  Input should be a valid list [type=list_type, input_value={'data': [{'id': 36645099...9cf5d10d8c2d180bfcb96c'}, input_type=dict]\n",
      "    For further information visit https://errors.pydantic.dev/2.11/v/list_type\n"
     ]
    },
    {
     "data": {
      "text/plain": [
       "False"
      ]
     },
     "execution_count": 5,
     "metadata": {},
     "output_type": "execute_result"
    }
   ],
   "source": [
    "# Test du PlaylistClient\n",
    "async def test_playlist_client():\n",
    "    print(\"🎶 Test du PlaylistClient\")\n",
    "    client = PlaylistClient()\n",
    "    \n",
    "    try:\n",
    "        # Test avec un ID de playlist Deezer populaire (exemple: Hit Français)\n",
    "        playlist_id = 908622995  # Popular French hits playlist\n",
    "        playlist = await client.get_playlist(playlist_id)\n",
    "        print(f\"✅ Playlist récupérée: {playlist.title}\")\n",
    "        print(f\"   Créateur: {playlist.creator.name}\")\n",
    "        print(f\"   Nombre de tracks: {playlist.nb_tracks}\")\n",
    "        print(f\"   Nombre de fans: {playlist.fans}\")\n",
    "        print(f\"   Lien: {playlist.link}\")\n",
    "        \n",
    "        # Test des tracks de la playlist\n",
    "        tracks = await client.get_tracks(playlist_id)\n",
    "        print(f\"✅ {len(tracks)} tracks récupérées de la playlist\")\n",
    "        if tracks:\n",
    "            print(f\"   Première track: {tracks[0].title}\")\n",
    "        \n",
    "        return True\n",
    "    except Exception as e:\n",
    "        print(f\"❌ Erreur lors du test PlaylistClient: {e}\")\n",
    "        return False\n",
    "    finally:\n",
    "        await client.close()\n",
    "\n",
    "# Exécuter le test\n",
    "await test_playlist_client()"
   ]
  },
  {
   "cell_type": "code",
   "execution_count": 6,
   "id": "eg5xscsvfqc",
   "metadata": {},
   "outputs": [
    {
     "name": "stdout",
     "output_type": "stream",
     "text": [
      "🚀 Début des tests de tous les clients Deezer\n",
      "\n",
      "🎵 Test du TrackClient\n",
      "✅ Track récupéré: Instant Crush (feat. Julian Casablancas) par Daft Punk\n",
      "   Durée: 337 secondes\n",
      "   Lien: https://www.deezer.com/track/67238732\n",
      "\n",
      "💿 Test du AlbumClient\n",
      "✅ Album récupéré: Discovery par Daft Punk\n",
      "   Nombre de tracks: 14\n",
      "   Date de sortie: 2001-03-07\n",
      "   Lien: https://www.deezer.com/album/302127\n",
      "✅ 14 tracks récupérées de l'album\n",
      "   Première track: One More Time\n",
      "\n",
      "🎤 Test du ArtistClient\n",
      "✅ Artiste récupéré: Daft Punk\n",
      "   Nombre d'albums: 39\n",
      "   Nombre de fans: 4978939\n",
      "   Lien: https://www.deezer.com/artist/27\n",
      "✅ 25 artistes trouvés pour 'Daft Punk'\n",
      "   Premier résultat: Daft Punk\n",
      "✅ 5 top tracks récupérées\n",
      "   Top track: Instant Crush (feat. Julian Casablancas)\n",
      "✅ 25 albums récupérés\n",
      "   Premier album: Random Access Memories (Drumless Edition)\n",
      "✅ 20 artistes liés récupérés\n",
      "   Artiste lié: Justice\n",
      "\n",
      "🎶 Test du PlaylistClient\n",
      "❌ Erreur lors du test PlaylistClient: 1 validation error for DeezerPlaylist\n",
      "tracks\n",
      "  Input should be a valid list [type=list_type, input_value={'data': [{'id': 36645099...9cf5d10d8c2d180bfcb96c'}, input_type=dict]\n",
      "    For further information visit https://errors.pydantic.dev/2.11/v/list_type\n",
      "\n",
      "==================================================\n",
      "📊 RÉSUMÉ DES TESTS\n",
      "==================================================\n",
      "TrackClient     : ✅ RÉUSSI\n",
      "AlbumClient     : ✅ RÉUSSI\n",
      "ArtistClient    : ✅ RÉUSSI\n",
      "PlaylistClient  : ❌ ÉCHOUÉ\n",
      "\n",
      "Résultat global: 3/4 clients testés avec succès\n",
      "⚠️  Certains clients nécessitent une attention particulière.\n"
     ]
    }
   ],
   "source": [
    "# Test complet de tous les clients\n",
    "async def run_all_tests():\n",
    "    print(\"🚀 Début des tests de tous les clients Deezer\\n\")\n",
    "    \n",
    "    results = {\n",
    "        \"TrackClient\": False,\n",
    "        \"AlbumClient\": False, \n",
    "        \"ArtistClient\": False,\n",
    "        \"PlaylistClient\": False\n",
    "    }\n",
    "    \n",
    "    # Exécution de tous les tests\n",
    "    results[\"TrackClient\"] = await test_track_client()\n",
    "    print()\n",
    "    results[\"AlbumClient\"] = await test_album_client()\n",
    "    print()\n",
    "    results[\"ArtistClient\"] = await test_artist_client()\n",
    "    print()\n",
    "    results[\"PlaylistClient\"] = await test_playlist_client()\n",
    "    \n",
    "    # Résumé des résultats\n",
    "    print(\"\\n\" + \"=\"*50)\n",
    "    print(\"📊 RÉSUMÉ DES TESTS\")\n",
    "    print(\"=\"*50)\n",
    "    \n",
    "    success_count = 0\n",
    "    for client_name, success in results.items():\n",
    "        status = \"✅ RÉUSSI\" if success else \"❌ ÉCHOUÉ\"\n",
    "        print(f\"{client_name:15} : {status}\")\n",
    "        if success:\n",
    "            success_count += 1\n",
    "    \n",
    "    print(f\"\\nRésultat global: {success_count}/{len(results)} clients testés avec succès\")\n",
    "    \n",
    "    if success_count == len(results):\n",
    "        print(\"🎉 Tous les clients fonctionnent parfaitement!\")\n",
    "    else:\n",
    "        print(\"⚠️  Certains clients nécessitent une attention particulière.\")\n",
    "\n",
    "# Lancer tous les tests\n",
    "await run_all_tests()"
   ]
  }
 ],
 "metadata": {
  "kernelspec": {
   "display_name": ".venv",
   "language": "python",
   "name": "python3"
  },
  "language_info": {
   "codemirror_mode": {
    "name": "ipython",
    "version": 3
   },
   "file_extension": ".py",
   "mimetype": "text/x-python",
   "name": "python",
   "nbconvert_exporter": "python",
   "pygments_lexer": "ipython3",
   "version": "3.12.2"
  }
 },
 "nbformat": 4,
 "nbformat_minor": 5
}
